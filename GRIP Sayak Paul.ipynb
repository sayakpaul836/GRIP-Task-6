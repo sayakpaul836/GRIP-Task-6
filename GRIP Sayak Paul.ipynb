{
 "cells": [
  {
   "cell_type": "markdown",
   "metadata": {},
   "source": [
    "# NAME : Sayak Paul\n",
    "# GRIP - Sparks Foundation\n",
    "# Task 6: Prediction using Decision Tree Algorithm"
   ]
  },
  {
   "cell_type": "markdown",
   "metadata": {},
   "source": []
  },
  {
   "cell_type": "markdown",
   "metadata": {},
   "source": [
    "# "
   ]
  },
  {
   "cell_type": "code",
   "execution_count": 9,
   "metadata": {
    "scrolled": true
   },
   "outputs": [
    {
     "data": {
      "text/html": [
       "<div>\n",
       "<style scoped>\n",
       "    .dataframe tbody tr th:only-of-type {\n",
       "        vertical-align: middle;\n",
       "    }\n",
       "\n",
       "    .dataframe tbody tr th {\n",
       "        vertical-align: top;\n",
       "    }\n",
       "\n",
       "    .dataframe thead th {\n",
       "        text-align: right;\n",
       "    }\n",
       "</style>\n",
       "<table border=\"1\" class=\"dataframe\">\n",
       "  <thead>\n",
       "    <tr style=\"text-align: right;\">\n",
       "      <th></th>\n",
       "      <th>SepalLengthCm</th>\n",
       "      <th>SepalWidthCm</th>\n",
       "      <th>PetalLengthCm</th>\n",
       "      <th>PetalWidthCm</th>\n",
       "      <th>Species</th>\n",
       "    </tr>\n",
       "  </thead>\n",
       "  <tbody>\n",
       "    <tr>\n",
       "      <th>0</th>\n",
       "      <td>5.1</td>\n",
       "      <td>3.5</td>\n",
       "      <td>1.4</td>\n",
       "      <td>0.2</td>\n",
       "      <td>Iris-setosa</td>\n",
       "    </tr>\n",
       "    <tr>\n",
       "      <th>1</th>\n",
       "      <td>4.9</td>\n",
       "      <td>3.0</td>\n",
       "      <td>1.4</td>\n",
       "      <td>0.2</td>\n",
       "      <td>Iris-setosa</td>\n",
       "    </tr>\n",
       "    <tr>\n",
       "      <th>2</th>\n",
       "      <td>4.7</td>\n",
       "      <td>3.2</td>\n",
       "      <td>1.3</td>\n",
       "      <td>0.2</td>\n",
       "      <td>Iris-setosa</td>\n",
       "    </tr>\n",
       "    <tr>\n",
       "      <th>3</th>\n",
       "      <td>4.6</td>\n",
       "      <td>3.1</td>\n",
       "      <td>1.5</td>\n",
       "      <td>0.2</td>\n",
       "      <td>Iris-setosa</td>\n",
       "    </tr>\n",
       "    <tr>\n",
       "      <th>4</th>\n",
       "      <td>5.0</td>\n",
       "      <td>3.6</td>\n",
       "      <td>1.4</td>\n",
       "      <td>0.2</td>\n",
       "      <td>Iris-setosa</td>\n",
       "    </tr>\n",
       "  </tbody>\n",
       "</table>\n",
       "</div>"
      ],
      "text/plain": [
       "   SepalLengthCm  SepalWidthCm  PetalLengthCm  PetalWidthCm      Species\n",
       "0            5.1           3.5            1.4           0.2  Iris-setosa\n",
       "1            4.9           3.0            1.4           0.2  Iris-setosa\n",
       "2            4.7           3.2            1.3           0.2  Iris-setosa\n",
       "3            4.6           3.1            1.5           0.2  Iris-setosa\n",
       "4            5.0           3.6            1.4           0.2  Iris-setosa"
      ]
     },
     "execution_count": 9,
     "metadata": {},
     "output_type": "execute_result"
    }
   ],
   "source": [
    "### Loading the Iris dataset\n",
    "import pandas as pd\n",
    "iris_data = pd.read_csv(\"Iris.csv\")\n",
    "\n",
    "### deleting the Id column\n",
    "iris_data.drop(\"Id\", axis=1, inplace=True)\n",
    "\n",
    "### Separatingting the target variable\n",
    "y = iris_data.Species\n",
    "X = iris_data.drop('Species', axis=1)\n",
    "\n",
    "### Have a look into the data\n",
    "iris_data.head()"
   ]
  },
  {
   "cell_type": "code",
   "execution_count": 25,
   "metadata": {},
   "outputs": [
    {
     "data": {
      "text/plain": [
       "Iris-setosa        50\n",
       "Iris-virginica     50\n",
       "Iris-versicolor    50\n",
       "Name: Species, dtype: int64"
      ]
     },
     "execution_count": 25,
     "metadata": {},
     "output_type": "execute_result"
    }
   ],
   "source": [
    "### Checking the no of classes\n",
    "iris_data['Species'].value_counts()\n",
    "\n",
    "## NOTE : There lies no class imbalance"
   ]
  },
  {
   "cell_type": "code",
   "execution_count": 5,
   "metadata": {
    "scrolled": true
   },
   "outputs": [
    {
     "data": {
      "text/plain": [
       "Id               0\n",
       "SepalLengthCm    0\n",
       "SepalWidthCm     0\n",
       "PetalLengthCm    0\n",
       "PetalWidthCm     0\n",
       "Species          0\n",
       "dtype: int64"
      ]
     },
     "execution_count": 5,
     "metadata": {},
     "output_type": "execute_result"
    }
   ],
   "source": [
    "### checking for missing entries\n",
    "iris_data.isna().sum()"
   ]
  },
  {
   "cell_type": "markdown",
   "metadata": {},
   "source": [
    "# Now lets fit the decision tree model and check its performance over the Validation set created from the given Iris dataset"
   ]
  },
  {
   "cell_type": "code",
   "execution_count": 24,
   "metadata": {
    "scrolled": true
   },
   "outputs": [
    {
     "name": "stdout",
     "output_type": "stream",
     "text": [
      "TEST  ACCURACY : 0.9666666666666667\n",
      "\n",
      "\n",
      "--------------\n",
      "The Confusion Matrix is -\n",
      " [[ 6  0  0]\n",
      " [ 0 12  1]\n",
      " [ 0  0 11]]\n"
     ]
    }
   ],
   "source": [
    "### splitting the dataset into train and split \n",
    "from sklearn.model_selection import train_test_split\n",
    "xtrain, xtest, ytrain, ytest = train_test_split(X, y, test_size=0.2, random_state=191130)\n",
    "\n",
    "### fitting the decision tree model on training data\n",
    "from sklearn.tree import DecisionTreeClassifier\n",
    "model_tree = DecisionTreeClassifier(max_depth = 10).fit(xtrain, ytrain)\n",
    "\n",
    "### create prediction over validation dataset\n",
    "y_pred = model_tree.predict(xtest)\n",
    "\n",
    "### finding the accuracy score\n",
    "from sklearn.metrics import accuracy_score, confusion_matrix\n",
    "accuracy = accuracy_score(ytest, y_pred)\n",
    "print(\"TEST  ACCURACY :\", accuracy)\n",
    "## Confusion matrix\n",
    "print(\"\\n\");print(\"--------------\")\n",
    "cm = confusion_matrix(ytest, y_pred)\n",
    "print(\"The Confusion Matrix is -\\n\", cm)"
   ]
  },
  {
   "cell_type": "markdown",
   "metadata": {},
   "source": [
    "So it is seen that decision tree classifier is performing superb over the Iris Dataset, with an accuracy of 0.97 over test data"
   ]
  },
  {
   "cell_type": "markdown",
   "metadata": {},
   "source": [
    "But why not we have a small experimentation over max-depth of the tree"
   ]
  },
  {
   "cell_type": "code",
   "execution_count": 16,
   "metadata": {
    "scrolled": true
   },
   "outputs": [
    {
     "name": "stdout",
     "output_type": "stream",
     "text": [
      "for max_depth= 4 Accuracy= 0.9666666666666667\n",
      "for max_depth= 10 Accuracy= 0.9666666666666667\n",
      "for max_depth= 20 Accuracy= 0.9666666666666667\n",
      "for max_depth= 50 Accuracy= 0.9666666666666667\n",
      "for max_depth= 100 Accuracy= 0.9666666666666667\n",
      "for max_depth= 150 Accuracy= 0.9666666666666667\n",
      "for max_depth= 200 Accuracy= 0.9666666666666667\n"
     ]
    }
   ],
   "source": [
    "### Lets experiment with the parameter \"max-depth\"\n",
    "\n",
    "list_max_depth = [4, 10, 20, 50, 100, 150, 200]\n",
    "for l in list_max_depth:\n",
    "    model_l = DecisionTreeClassifier(max_depth = l).fit(xtrain, ytrain)\n",
    "    y_pred = model_l.predict(xtest)\n",
    "    accuracy = accuracy_score(ytest, y_pred)\n",
    "    print(\"for max_depth=\",l,\"Accuracy=\",accuracy)"
   ]
  },
  {
   "cell_type": "markdown",
   "metadata": {},
   "source": [
    "Lets take max_depth = 20"
   ]
  },
  {
   "cell_type": "code",
   "execution_count": 20,
   "metadata": {},
   "outputs": [],
   "source": [
    "### Fitting with max_depth = 20\n",
    "model_tree = DecisionTreeClassifier(max_depth = 10).fit(xtrain, ytrain)\n",
    "\n",
    "### prediction\n",
    "y_pred = model_tree.predict(xtest)"
   ]
  },
  {
   "cell_type": "markdown",
   "metadata": {},
   "source": [
    "# Visualize the Fitted Decision Tree for better understanding"
   ]
  },
  {
   "cell_type": "code",
   "execution_count": 22,
   "metadata": {},
   "outputs": [
    {
     "data": {
      "image/svg+xml": [
       "<?xml version=\"1.0\" encoding=\"UTF-8\" standalone=\"no\"?>\r\n",
       "<!DOCTYPE svg PUBLIC \"-//W3C//DTD SVG 1.1//EN\"\r\n",
       " \"http://www.w3.org/Graphics/SVG/1.1/DTD/svg11.dtd\">\r\n",
       "<!-- Generated by graphviz version 2.38.0 (20140413.2041)\r\n",
       " -->\r\n",
       "<!-- Title: Tree Pages: 1 -->\r\n",
       "<svg width=\"672pt\" height=\"671pt\"\r\n",
       " viewBox=\"0.00 0.00 672.00 671.00\" xmlns=\"http://www.w3.org/2000/svg\" xmlns:xlink=\"http://www.w3.org/1999/xlink\">\r\n",
       "<g id=\"graph0\" class=\"graph\" transform=\"scale(1 1) rotate(0) translate(4 667)\">\r\n",
       "<title>Tree</title>\r\n",
       "<polygon fill=\"white\" stroke=\"none\" points=\"-4,4 -4,-667 668,-667 668,4 -4,4\"/>\r\n",
       "<!-- 0 -->\r\n",
       "<g id=\"node1\" class=\"node\"><title>0</title>\r\n",
       "<path fill=\"#fdf7f3\" stroke=\"black\" d=\"M312,-663C312,-663 193,-663 193,-663 187,-663 181,-657 181,-651 181,-651 181,-592 181,-592 181,-586 187,-580 193,-580 193,-580 312,-580 312,-580 318,-580 324,-586 324,-592 324,-592 324,-651 324,-651 324,-657 318,-663 312,-663\"/>\r\n",
       "<text text-anchor=\"start\" x=\"189\" y=\"-647.8\" font-family=\"Helvetica,sans-Serif\" font-size=\"14.00\">PetalWidthCm ≤ 0.8</text>\r\n",
       "<text text-anchor=\"start\" x=\"215\" y=\"-632.8\" font-family=\"Helvetica,sans-Serif\" font-size=\"14.00\">gini = 0.665</text>\r\n",
       "<text text-anchor=\"start\" x=\"205\" y=\"-617.8\" font-family=\"Helvetica,sans-Serif\" font-size=\"14.00\">samples = 120</text>\r\n",
       "<text text-anchor=\"start\" x=\"192\" y=\"-602.8\" font-family=\"Helvetica,sans-Serif\" font-size=\"14.00\">value = [44, 37, 39]</text>\r\n",
       "<text text-anchor=\"start\" x=\"194.5\" y=\"-587.8\" font-family=\"Helvetica,sans-Serif\" font-size=\"14.00\">class = Iris&#45;setosa</text>\r\n",
       "</g>\r\n",
       "<!-- 1 -->\r\n",
       "<g id=\"node2\" class=\"node\"><title>1</title>\r\n",
       "<path fill=\"#e58139\" stroke=\"black\" d=\"M226.5,-536.5C226.5,-536.5 118.5,-536.5 118.5,-536.5 112.5,-536.5 106.5,-530.5 106.5,-524.5 106.5,-524.5 106.5,-480.5 106.5,-480.5 106.5,-474.5 112.5,-468.5 118.5,-468.5 118.5,-468.5 226.5,-468.5 226.5,-468.5 232.5,-468.5 238.5,-474.5 238.5,-480.5 238.5,-480.5 238.5,-524.5 238.5,-524.5 238.5,-530.5 232.5,-536.5 226.5,-536.5\"/>\r\n",
       "<text text-anchor=\"start\" x=\"143.5\" y=\"-521.3\" font-family=\"Helvetica,sans-Serif\" font-size=\"14.00\">gini = 0.0</text>\r\n",
       "<text text-anchor=\"start\" x=\"129\" y=\"-506.3\" font-family=\"Helvetica,sans-Serif\" font-size=\"14.00\">samples = 44</text>\r\n",
       "<text text-anchor=\"start\" x=\"120\" y=\"-491.3\" font-family=\"Helvetica,sans-Serif\" font-size=\"14.00\">value = [44, 0, 0]</text>\r\n",
       "<text text-anchor=\"start\" x=\"114.5\" y=\"-476.3\" font-family=\"Helvetica,sans-Serif\" font-size=\"14.00\">class = Iris&#45;setosa</text>\r\n",
       "</g>\r\n",
       "<!-- 0&#45;&gt;1 -->\r\n",
       "<g id=\"edge1\" class=\"edge\"><title>0&#45;&gt;1</title>\r\n",
       "<path fill=\"none\" stroke=\"black\" d=\"M224.744,-579.907C217.049,-568.652 208.683,-556.418 200.949,-545.106\"/>\r\n",
       "<polygon fill=\"black\" stroke=\"black\" points=\"203.712,-542.946 195.178,-536.667 197.933,-546.897 203.712,-542.946\"/>\r\n",
       "<text text-anchor=\"middle\" x=\"190.564\" y=\"-557.537\" font-family=\"Helvetica,sans-Serif\" font-size=\"14.00\">True</text>\r\n",
       "</g>\r\n",
       "<!-- 2 -->\r\n",
       "<g id=\"node3\" class=\"node\"><title>2</title>\r\n",
       "<path fill=\"#f9f5fe\" stroke=\"black\" d=\"M396.5,-544C396.5,-544 268.5,-544 268.5,-544 262.5,-544 256.5,-538 256.5,-532 256.5,-532 256.5,-473 256.5,-473 256.5,-467 262.5,-461 268.5,-461 268.5,-461 396.5,-461 396.5,-461 402.5,-461 408.5,-467 408.5,-473 408.5,-473 408.5,-532 408.5,-532 408.5,-538 402.5,-544 396.5,-544\"/>\r\n",
       "<text text-anchor=\"start\" x=\"264.5\" y=\"-528.8\" font-family=\"Helvetica,sans-Serif\" font-size=\"14.00\">PetalWidthCm ≤ 1.65</text>\r\n",
       "<text text-anchor=\"start\" x=\"303.5\" y=\"-513.8\" font-family=\"Helvetica,sans-Serif\" font-size=\"14.00\">gini = 0.5</text>\r\n",
       "<text text-anchor=\"start\" x=\"289\" y=\"-498.8\" font-family=\"Helvetica,sans-Serif\" font-size=\"14.00\">samples = 76</text>\r\n",
       "<text text-anchor=\"start\" x=\"276\" y=\"-483.8\" font-family=\"Helvetica,sans-Serif\" font-size=\"14.00\">value = [0, 37, 39]</text>\r\n",
       "<text text-anchor=\"start\" x=\"265\" y=\"-468.8\" font-family=\"Helvetica,sans-Serif\" font-size=\"14.00\">class = Iris&#45;versicolor</text>\r\n",
       "</g>\r\n",
       "<!-- 0&#45;&gt;2 -->\r\n",
       "<g id=\"edge2\" class=\"edge\"><title>0&#45;&gt;2</title>\r\n",
       "<path fill=\"none\" stroke=\"black\" d=\"M280.256,-579.907C286.337,-571.014 292.836,-561.509 299.111,-552.331\"/>\r\n",
       "<polygon fill=\"black\" stroke=\"black\" points=\"302.038,-554.251 304.793,-544.021 296.26,-550.3 302.038,-554.251\"/>\r\n",
       "<text text-anchor=\"middle\" x=\"309.408\" y=\"-564.891\" font-family=\"Helvetica,sans-Serif\" font-size=\"14.00\">False</text>\r\n",
       "</g>\r\n",
       "<!-- 3 -->\r\n",
       "<g id=\"node4\" class=\"node\"><title>3</title>\r\n",
       "<path fill=\"#4fe88f\" stroke=\"black\" d=\"M311.5,-425C311.5,-425 177.5,-425 177.5,-425 171.5,-425 165.5,-419 165.5,-413 165.5,-413 165.5,-354 165.5,-354 165.5,-348 171.5,-342 177.5,-342 177.5,-342 311.5,-342 311.5,-342 317.5,-342 323.5,-348 323.5,-354 323.5,-354 323.5,-413 323.5,-413 323.5,-419 317.5,-425 311.5,-425\"/>\r\n",
       "<text text-anchor=\"start\" x=\"173.5\" y=\"-409.8\" font-family=\"Helvetica,sans-Serif\" font-size=\"14.00\">PetalLengthCm ≤ 4.95</text>\r\n",
       "<text text-anchor=\"start\" x=\"211\" y=\"-394.8\" font-family=\"Helvetica,sans-Serif\" font-size=\"14.00\">gini = 0.18</text>\r\n",
       "<text text-anchor=\"start\" x=\"201\" y=\"-379.8\" font-family=\"Helvetica,sans-Serif\" font-size=\"14.00\">samples = 40</text>\r\n",
       "<text text-anchor=\"start\" x=\"192\" y=\"-364.8\" font-family=\"Helvetica,sans-Serif\" font-size=\"14.00\">value = [0, 36, 4]</text>\r\n",
       "<text text-anchor=\"start\" x=\"182.5\" y=\"-349.8\" font-family=\"Helvetica,sans-Serif\" font-size=\"14.00\">class = Iris&#45;virginica</text>\r\n",
       "</g>\r\n",
       "<!-- 2&#45;&gt;3 -->\r\n",
       "<g id=\"edge3\" class=\"edge\"><title>2&#45;&gt;3</title>\r\n",
       "<path fill=\"none\" stroke=\"black\" d=\"M301.969,-460.907C295.211,-451.923 287.985,-442.315 281.016,-433.05\"/>\r\n",
       "<polygon fill=\"black\" stroke=\"black\" points=\"283.785,-430.909 274.977,-425.021 278.191,-435.116 283.785,-430.909\"/>\r\n",
       "</g>\r\n",
       "<!-- 10 -->\r\n",
       "<g id=\"node11\" class=\"node\"><title>10</title>\r\n",
       "<path fill=\"#853fe6\" stroke=\"black\" d=\"M487.5,-425C487.5,-425 353.5,-425 353.5,-425 347.5,-425 341.5,-419 341.5,-413 341.5,-413 341.5,-354 341.5,-354 341.5,-348 347.5,-342 353.5,-342 353.5,-342 487.5,-342 487.5,-342 493.5,-342 499.5,-348 499.5,-354 499.5,-354 499.5,-413 499.5,-413 499.5,-419 493.5,-425 487.5,-425\"/>\r\n",
       "<text text-anchor=\"start\" x=\"349.5\" y=\"-409.8\" font-family=\"Helvetica,sans-Serif\" font-size=\"14.00\">PetalLengthCm ≤ 4.85</text>\r\n",
       "<text text-anchor=\"start\" x=\"383\" y=\"-394.8\" font-family=\"Helvetica,sans-Serif\" font-size=\"14.00\">gini = 0.054</text>\r\n",
       "<text text-anchor=\"start\" x=\"377\" y=\"-379.8\" font-family=\"Helvetica,sans-Serif\" font-size=\"14.00\">samples = 36</text>\r\n",
       "<text text-anchor=\"start\" x=\"368\" y=\"-364.8\" font-family=\"Helvetica,sans-Serif\" font-size=\"14.00\">value = [0, 1, 35]</text>\r\n",
       "<text text-anchor=\"start\" x=\"353\" y=\"-349.8\" font-family=\"Helvetica,sans-Serif\" font-size=\"14.00\">class = Iris&#45;versicolor</text>\r\n",
       "</g>\r\n",
       "<!-- 2&#45;&gt;10 -->\r\n",
       "<g id=\"edge10\" class=\"edge\"><title>2&#45;&gt;10</title>\r\n",
       "<path fill=\"none\" stroke=\"black\" d=\"M363.031,-460.907C369.789,-451.923 377.015,-442.315 383.984,-433.05\"/>\r\n",
       "<polygon fill=\"black\" stroke=\"black\" points=\"386.809,-435.116 390.023,-425.021 381.215,-430.909 386.809,-435.116\"/>\r\n",
       "</g>\r\n",
       "<!-- 4 -->\r\n",
       "<g id=\"node5\" class=\"node\"><title>4</title>\r\n",
       "<path fill=\"#39e581\" stroke=\"black\" d=\"M140.5,-298.5C140.5,-298.5 24.5,-298.5 24.5,-298.5 18.5,-298.5 12.5,-292.5 12.5,-286.5 12.5,-286.5 12.5,-242.5 12.5,-242.5 12.5,-236.5 18.5,-230.5 24.5,-230.5 24.5,-230.5 140.5,-230.5 140.5,-230.5 146.5,-230.5 152.5,-236.5 152.5,-242.5 152.5,-242.5 152.5,-286.5 152.5,-286.5 152.5,-292.5 146.5,-298.5 140.5,-298.5\"/>\r\n",
       "<text text-anchor=\"start\" x=\"53.5\" y=\"-283.3\" font-family=\"Helvetica,sans-Serif\" font-size=\"14.00\">gini = 0.0</text>\r\n",
       "<text text-anchor=\"start\" x=\"39\" y=\"-268.3\" font-family=\"Helvetica,sans-Serif\" font-size=\"14.00\">samples = 35</text>\r\n",
       "<text text-anchor=\"start\" x=\"30\" y=\"-253.3\" font-family=\"Helvetica,sans-Serif\" font-size=\"14.00\">value = [0, 35, 0]</text>\r\n",
       "<text text-anchor=\"start\" x=\"20.5\" y=\"-238.3\" font-family=\"Helvetica,sans-Serif\" font-size=\"14.00\">class = Iris&#45;virginica</text>\r\n",
       "</g>\r\n",
       "<!-- 3&#45;&gt;4 -->\r\n",
       "<g id=\"edge4\" class=\"edge\"><title>3&#45;&gt;4</title>\r\n",
       "<path fill=\"none\" stroke=\"black\" d=\"M188.295,-341.907C171.641,-329.88 153.44,-316.735 136.903,-304.791\"/>\r\n",
       "<polygon fill=\"black\" stroke=\"black\" points=\"138.579,-301.684 128.423,-298.667 134.481,-307.359 138.579,-301.684\"/>\r\n",
       "</g>\r\n",
       "<!-- 5 -->\r\n",
       "<g id=\"node6\" class=\"node\"><title>5</title>\r\n",
       "<path fill=\"#a06aec\" stroke=\"black\" d=\"M310.5,-306C310.5,-306 182.5,-306 182.5,-306 176.5,-306 170.5,-300 170.5,-294 170.5,-294 170.5,-235 170.5,-235 170.5,-229 176.5,-223 182.5,-223 182.5,-223 310.5,-223 310.5,-223 316.5,-223 322.5,-229 322.5,-235 322.5,-235 322.5,-294 322.5,-294 322.5,-300 316.5,-306 310.5,-306\"/>\r\n",
       "<text text-anchor=\"start\" x=\"178.5\" y=\"-290.8\" font-family=\"Helvetica,sans-Serif\" font-size=\"14.00\">PetalWidthCm ≤ 1.55</text>\r\n",
       "<text text-anchor=\"start\" x=\"213\" y=\"-275.8\" font-family=\"Helvetica,sans-Serif\" font-size=\"14.00\">gini = 0.32</text>\r\n",
       "<text text-anchor=\"start\" x=\"207\" y=\"-260.8\" font-family=\"Helvetica,sans-Serif\" font-size=\"14.00\">samples = 5</text>\r\n",
       "<text text-anchor=\"start\" x=\"198\" y=\"-245.8\" font-family=\"Helvetica,sans-Serif\" font-size=\"14.00\">value = [0, 1, 4]</text>\r\n",
       "<text text-anchor=\"start\" x=\"179\" y=\"-230.8\" font-family=\"Helvetica,sans-Serif\" font-size=\"14.00\">class = Iris&#45;versicolor</text>\r\n",
       "</g>\r\n",
       "<!-- 3&#45;&gt;5 -->\r\n",
       "<g id=\"edge5\" class=\"edge\"><title>3&#45;&gt;5</title>\r\n",
       "<path fill=\"none\" stroke=\"black\" d=\"M245.194,-341.907C245.337,-333.558 245.489,-324.671 245.636,-316.02\"/>\r\n",
       "<polygon fill=\"black\" stroke=\"black\" points=\"249.136,-316.079 245.807,-306.021 242.137,-315.959 249.136,-316.079\"/>\r\n",
       "</g>\r\n",
       "<!-- 6 -->\r\n",
       "<g id=\"node7\" class=\"node\"><title>6</title>\r\n",
       "<path fill=\"#8139e5\" stroke=\"black\" d=\"M139,-179.5C139,-179.5 12,-179.5 12,-179.5 6,-179.5 0,-173.5 0,-167.5 0,-167.5 0,-123.5 0,-123.5 0,-117.5 6,-111.5 12,-111.5 12,-111.5 139,-111.5 139,-111.5 145,-111.5 151,-117.5 151,-123.5 151,-123.5 151,-167.5 151,-167.5 151,-173.5 145,-179.5 139,-179.5\"/>\r\n",
       "<text text-anchor=\"start\" x=\"46.5\" y=\"-164.3\" font-family=\"Helvetica,sans-Serif\" font-size=\"14.00\">gini = 0.0</text>\r\n",
       "<text text-anchor=\"start\" x=\"36\" y=\"-149.3\" font-family=\"Helvetica,sans-Serif\" font-size=\"14.00\">samples = 3</text>\r\n",
       "<text text-anchor=\"start\" x=\"27\" y=\"-134.3\" font-family=\"Helvetica,sans-Serif\" font-size=\"14.00\">value = [0, 0, 3]</text>\r\n",
       "<text text-anchor=\"start\" x=\"8\" y=\"-119.3\" font-family=\"Helvetica,sans-Serif\" font-size=\"14.00\">class = Iris&#45;versicolor</text>\r\n",
       "</g>\r\n",
       "<!-- 5&#45;&gt;6 -->\r\n",
       "<g id=\"edge6\" class=\"edge\"><title>5&#45;&gt;6</title>\r\n",
       "<path fill=\"none\" stroke=\"black\" d=\"M187.172,-222.907C169.432,-210.769 150.029,-197.493 132.445,-185.462\"/>\r\n",
       "<polygon fill=\"black\" stroke=\"black\" points=\"134.204,-182.425 123.975,-179.667 130.251,-188.202 134.204,-182.425\"/>\r\n",
       "</g>\r\n",
       "<!-- 7 -->\r\n",
       "<g id=\"node8\" class=\"node\"><title>7</title>\r\n",
       "<path fill=\"#ffffff\" stroke=\"black\" d=\"M313.5,-187C313.5,-187 181.5,-187 181.5,-187 175.5,-187 169.5,-181 169.5,-175 169.5,-175 169.5,-116 169.5,-116 169.5,-110 175.5,-104 181.5,-104 181.5,-104 313.5,-104 313.5,-104 319.5,-104 325.5,-110 325.5,-116 325.5,-116 325.5,-175 325.5,-175 325.5,-181 319.5,-187 313.5,-187\"/>\r\n",
       "<text text-anchor=\"start\" x=\"177.5\" y=\"-171.8\" font-family=\"Helvetica,sans-Serif\" font-size=\"14.00\">SepalWidthCm ≤ 2.85</text>\r\n",
       "<text text-anchor=\"start\" x=\"218.5\" y=\"-156.8\" font-family=\"Helvetica,sans-Serif\" font-size=\"14.00\">gini = 0.5</text>\r\n",
       "<text text-anchor=\"start\" x=\"208\" y=\"-141.8\" font-family=\"Helvetica,sans-Serif\" font-size=\"14.00\">samples = 2</text>\r\n",
       "<text text-anchor=\"start\" x=\"199\" y=\"-126.8\" font-family=\"Helvetica,sans-Serif\" font-size=\"14.00\">value = [0, 1, 1]</text>\r\n",
       "<text text-anchor=\"start\" x=\"185.5\" y=\"-111.8\" font-family=\"Helvetica,sans-Serif\" font-size=\"14.00\">class = Iris&#45;virginica</text>\r\n",
       "</g>\r\n",
       "<!-- 5&#45;&gt;7 -->\r\n",
       "<g id=\"edge7\" class=\"edge\"><title>5&#45;&gt;7</title>\r\n",
       "<path fill=\"none\" stroke=\"black\" d=\"M246.847,-222.907C246.918,-214.649 246.993,-205.864 247.066,-197.302\"/>\r\n",
       "<polygon fill=\"black\" stroke=\"black\" points=\"250.568,-197.05 247.154,-187.021 243.568,-196.99 250.568,-197.05\"/>\r\n",
       "</g>\r\n",
       "<!-- 8 -->\r\n",
       "<g id=\"node9\" class=\"node\"><title>8</title>\r\n",
       "<path fill=\"#39e581\" stroke=\"black\" d=\"M223.5,-68C223.5,-68 107.5,-68 107.5,-68 101.5,-68 95.5,-62 95.5,-56 95.5,-56 95.5,-12 95.5,-12 95.5,-6 101.5,-0 107.5,-0 107.5,-0 223.5,-0 223.5,-0 229.5,-0 235.5,-6 235.5,-12 235.5,-12 235.5,-56 235.5,-56 235.5,-62 229.5,-68 223.5,-68\"/>\r\n",
       "<text text-anchor=\"start\" x=\"136.5\" y=\"-52.8\" font-family=\"Helvetica,sans-Serif\" font-size=\"14.00\">gini = 0.0</text>\r\n",
       "<text text-anchor=\"start\" x=\"126\" y=\"-37.8\" font-family=\"Helvetica,sans-Serif\" font-size=\"14.00\">samples = 1</text>\r\n",
       "<text text-anchor=\"start\" x=\"117\" y=\"-22.8\" font-family=\"Helvetica,sans-Serif\" font-size=\"14.00\">value = [0, 1, 0]</text>\r\n",
       "<text text-anchor=\"start\" x=\"103.5\" y=\"-7.8\" font-family=\"Helvetica,sans-Serif\" font-size=\"14.00\">class = Iris&#45;virginica</text>\r\n",
       "</g>\r\n",
       "<!-- 7&#45;&gt;8 -->\r\n",
       "<g id=\"edge8\" class=\"edge\"><title>7&#45;&gt;8</title>\r\n",
       "<path fill=\"none\" stroke=\"black\" d=\"M216.966,-103.726C210.273,-94.7878 203.18,-85.3168 196.47,-76.3558\"/>\r\n",
       "<polygon fill=\"black\" stroke=\"black\" points=\"199.232,-74.206 190.437,-68.2996 193.629,-78.402 199.232,-74.206\"/>\r\n",
       "</g>\r\n",
       "<!-- 9 -->\r\n",
       "<g id=\"node10\" class=\"node\"><title>9</title>\r\n",
       "<path fill=\"#8139e5\" stroke=\"black\" d=\"M393,-68C393,-68 266,-68 266,-68 260,-68 254,-62 254,-56 254,-56 254,-12 254,-12 254,-6 260,-0 266,-0 266,-0 393,-0 393,-0 399,-0 405,-6 405,-12 405,-12 405,-56 405,-56 405,-62 399,-68 393,-68\"/>\r\n",
       "<text text-anchor=\"start\" x=\"300.5\" y=\"-52.8\" font-family=\"Helvetica,sans-Serif\" font-size=\"14.00\">gini = 0.0</text>\r\n",
       "<text text-anchor=\"start\" x=\"290\" y=\"-37.8\" font-family=\"Helvetica,sans-Serif\" font-size=\"14.00\">samples = 1</text>\r\n",
       "<text text-anchor=\"start\" x=\"281\" y=\"-22.8\" font-family=\"Helvetica,sans-Serif\" font-size=\"14.00\">value = [0, 0, 1]</text>\r\n",
       "<text text-anchor=\"start\" x=\"262\" y=\"-7.8\" font-family=\"Helvetica,sans-Serif\" font-size=\"14.00\">class = Iris&#45;versicolor</text>\r\n",
       "</g>\r\n",
       "<!-- 7&#45;&gt;9 -->\r\n",
       "<g id=\"edge9\" class=\"edge\"><title>7&#45;&gt;9</title>\r\n",
       "<path fill=\"none\" stroke=\"black\" d=\"M278.034,-103.726C284.727,-94.7878 291.82,-85.3168 298.53,-76.3558\"/>\r\n",
       "<polygon fill=\"black\" stroke=\"black\" points=\"301.371,-78.402 304.563,-68.2996 295.768,-74.206 301.371,-78.402\"/>\r\n",
       "</g>\r\n",
       "<!-- 11 -->\r\n",
       "<g id=\"node12\" class=\"node\"><title>11</title>\r\n",
       "<path fill=\"#ab7bee\" stroke=\"black\" d=\"M483,-306C483,-306 356,-306 356,-306 350,-306 344,-300 344,-294 344,-294 344,-235 344,-235 344,-229 350,-223 356,-223 356,-223 483,-223 483,-223 489,-223 495,-229 495,-235 495,-235 495,-294 495,-294 495,-300 489,-306 483,-306\"/>\r\n",
       "<text text-anchor=\"start\" x=\"353.5\" y=\"-290.8\" font-family=\"Helvetica,sans-Serif\" font-size=\"14.00\">SepalWidthCm ≤ 3.1</text>\r\n",
       "<text text-anchor=\"start\" x=\"382\" y=\"-275.8\" font-family=\"Helvetica,sans-Serif\" font-size=\"14.00\">gini = 0.375</text>\r\n",
       "<text text-anchor=\"start\" x=\"380\" y=\"-260.8\" font-family=\"Helvetica,sans-Serif\" font-size=\"14.00\">samples = 4</text>\r\n",
       "<text text-anchor=\"start\" x=\"371\" y=\"-245.8\" font-family=\"Helvetica,sans-Serif\" font-size=\"14.00\">value = [0, 1, 3]</text>\r\n",
       "<text text-anchor=\"start\" x=\"352\" y=\"-230.8\" font-family=\"Helvetica,sans-Serif\" font-size=\"14.00\">class = Iris&#45;versicolor</text>\r\n",
       "</g>\r\n",
       "<!-- 10&#45;&gt;11 -->\r\n",
       "<g id=\"edge11\" class=\"edge\"><title>10&#45;&gt;11</title>\r\n",
       "<path fill=\"none\" stroke=\"black\" d=\"M420.153,-341.907C420.082,-333.649 420.007,-324.864 419.934,-316.302\"/>\r\n",
       "<polygon fill=\"black\" stroke=\"black\" points=\"423.432,-315.99 419.846,-306.021 416.432,-316.05 423.432,-315.99\"/>\r\n",
       "</g>\r\n",
       "<!-- 14 -->\r\n",
       "<g id=\"node15\" class=\"node\"><title>14</title>\r\n",
       "<path fill=\"#8139e5\" stroke=\"black\" d=\"M652,-298.5C652,-298.5 525,-298.5 525,-298.5 519,-298.5 513,-292.5 513,-286.5 513,-286.5 513,-242.5 513,-242.5 513,-236.5 519,-230.5 525,-230.5 525,-230.5 652,-230.5 652,-230.5 658,-230.5 664,-236.5 664,-242.5 664,-242.5 664,-286.5 664,-286.5 664,-292.5 658,-298.5 652,-298.5\"/>\r\n",
       "<text text-anchor=\"start\" x=\"559.5\" y=\"-283.3\" font-family=\"Helvetica,sans-Serif\" font-size=\"14.00\">gini = 0.0</text>\r\n",
       "<text text-anchor=\"start\" x=\"545\" y=\"-268.3\" font-family=\"Helvetica,sans-Serif\" font-size=\"14.00\">samples = 32</text>\r\n",
       "<text text-anchor=\"start\" x=\"536\" y=\"-253.3\" font-family=\"Helvetica,sans-Serif\" font-size=\"14.00\">value = [0, 0, 32]</text>\r\n",
       "<text text-anchor=\"start\" x=\"521\" y=\"-238.3\" font-family=\"Helvetica,sans-Serif\" font-size=\"14.00\">class = Iris&#45;versicolor</text>\r\n",
       "</g>\r\n",
       "<!-- 10&#45;&gt;14 -->\r\n",
       "<g id=\"edge14\" class=\"edge\"><title>10&#45;&gt;14</title>\r\n",
       "<path fill=\"none\" stroke=\"black\" d=\"M478.787,-341.907C496.216,-329.769 515.279,-316.493 532.554,-304.462\"/>\r\n",
       "<polygon fill=\"black\" stroke=\"black\" points=\"534.67,-307.254 540.876,-298.667 530.669,-301.51 534.67,-307.254\"/>\r\n",
       "</g>\r\n",
       "<!-- 12 -->\r\n",
       "<g id=\"node13\" class=\"node\"><title>12</title>\r\n",
       "<path fill=\"#8139e5\" stroke=\"black\" d=\"M483,-179.5C483,-179.5 356,-179.5 356,-179.5 350,-179.5 344,-173.5 344,-167.5 344,-167.5 344,-123.5 344,-123.5 344,-117.5 350,-111.5 356,-111.5 356,-111.5 483,-111.5 483,-111.5 489,-111.5 495,-117.5 495,-123.5 495,-123.5 495,-167.5 495,-167.5 495,-173.5 489,-179.5 483,-179.5\"/>\r\n",
       "<text text-anchor=\"start\" x=\"390.5\" y=\"-164.3\" font-family=\"Helvetica,sans-Serif\" font-size=\"14.00\">gini = 0.0</text>\r\n",
       "<text text-anchor=\"start\" x=\"380\" y=\"-149.3\" font-family=\"Helvetica,sans-Serif\" font-size=\"14.00\">samples = 3</text>\r\n",
       "<text text-anchor=\"start\" x=\"371\" y=\"-134.3\" font-family=\"Helvetica,sans-Serif\" font-size=\"14.00\">value = [0, 0, 3]</text>\r\n",
       "<text text-anchor=\"start\" x=\"352\" y=\"-119.3\" font-family=\"Helvetica,sans-Serif\" font-size=\"14.00\">class = Iris&#45;versicolor</text>\r\n",
       "</g>\r\n",
       "<!-- 11&#45;&gt;12 -->\r\n",
       "<g id=\"edge12\" class=\"edge\"><title>11&#45;&gt;12</title>\r\n",
       "<path fill=\"none\" stroke=\"black\" d=\"M419.5,-222.907C419.5,-212.204 419.5,-200.615 419.5,-189.776\"/>\r\n",
       "<polygon fill=\"black\" stroke=\"black\" points=\"423,-189.667 419.5,-179.667 416,-189.667 423,-189.667\"/>\r\n",
       "</g>\r\n",
       "<!-- 13 -->\r\n",
       "<g id=\"node14\" class=\"node\"><title>13</title>\r\n",
       "<path fill=\"#39e581\" stroke=\"black\" d=\"M641.5,-179.5C641.5,-179.5 525.5,-179.5 525.5,-179.5 519.5,-179.5 513.5,-173.5 513.5,-167.5 513.5,-167.5 513.5,-123.5 513.5,-123.5 513.5,-117.5 519.5,-111.5 525.5,-111.5 525.5,-111.5 641.5,-111.5 641.5,-111.5 647.5,-111.5 653.5,-117.5 653.5,-123.5 653.5,-123.5 653.5,-167.5 653.5,-167.5 653.5,-173.5 647.5,-179.5 641.5,-179.5\"/>\r\n",
       "<text text-anchor=\"start\" x=\"554.5\" y=\"-164.3\" font-family=\"Helvetica,sans-Serif\" font-size=\"14.00\">gini = 0.0</text>\r\n",
       "<text text-anchor=\"start\" x=\"544\" y=\"-149.3\" font-family=\"Helvetica,sans-Serif\" font-size=\"14.00\">samples = 1</text>\r\n",
       "<text text-anchor=\"start\" x=\"535\" y=\"-134.3\" font-family=\"Helvetica,sans-Serif\" font-size=\"14.00\">value = [0, 1, 0]</text>\r\n",
       "<text text-anchor=\"start\" x=\"521.5\" y=\"-119.3\" font-family=\"Helvetica,sans-Serif\" font-size=\"14.00\">class = Iris&#45;virginica</text>\r\n",
       "</g>\r\n",
       "<!-- 11&#45;&gt;13 -->\r\n",
       "<g id=\"edge13\" class=\"edge\"><title>11&#45;&gt;13</title>\r\n",
       "<path fill=\"none\" stroke=\"black\" d=\"M476.399,-222.907C493.258,-210.88 511.684,-197.735 528.426,-185.791\"/>\r\n",
       "<polygon fill=\"black\" stroke=\"black\" points=\"530.902,-188.324 537.01,-179.667 526.836,-182.625 530.902,-188.324\"/>\r\n",
       "</g>\r\n",
       "</g>\r\n",
       "</svg>\r\n"
      ],
      "text/plain": [
       "<graphviz.files.Source at 0x178cc196b88>"
      ]
     },
     "execution_count": 22,
     "metadata": {},
     "output_type": "execute_result"
    }
   ],
   "source": [
    "from sklearn import tree\n",
    "import graphviz\n",
    "dot_data = tree.export_graphviz(model_tree, out_file=None, \n",
    "                      feature_names=['SepalLengthCm', 'SepalWidthCm', 'PetalLengthCm', 'PetalWidthCm'],\n",
    "                      class_names=['Iris-setosa','Iris-virginica', 'Iris-versicolor'],\n",
    "                      filled=True, rounded=True,  \n",
    "                     special_characters=True)  \n",
    "graph = graphviz.Source(dot_data)  \n",
    "graph"
   ]
  },
  {
   "cell_type": "markdown",
   "metadata": {},
   "source": [
    "# Lets create our Final Decision Tree model"
   ]
  },
  {
   "cell_type": "code",
   "execution_count": 23,
   "metadata": {},
   "outputs": [
    {
     "name": "stdout",
     "output_type": "stream",
     "text": [
      "Decision Tree Classifier created\n"
     ]
    }
   ],
   "source": [
    "final_model = DecisionTreeClassifier(max_depth=20)\n",
    "\n",
    "## fitting it to entire dataset\n",
    "final_model.fit(X, y)\n",
    "\n",
    "print(\"Decision Tree Classifier created\")"
   ]
  }
 ],
 "metadata": {
  "kernelspec": {
   "display_name": "Python 3",
   "language": "python",
   "name": "python3"
  },
  "language_info": {
   "codemirror_mode": {
    "name": "ipython",
    "version": 3
   },
   "file_extension": ".py",
   "mimetype": "text/x-python",
   "name": "python",
   "nbconvert_exporter": "python",
   "pygments_lexer": "ipython3",
   "version": "3.7.6"
  }
 },
 "nbformat": 4,
 "nbformat_minor": 4
}
